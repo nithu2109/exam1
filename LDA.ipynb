{
  "nbformat": 4,
  "nbformat_minor": 0,
  "metadata": {
    "colab": {
      "name": "LDA.ipynb",
      "provenance": []
    },
    "kernelspec": {
      "name": "python3",
      "display_name": "Python 3"
    },
    "language_info": {
      "name": "python"
    }
  },
  "cells": [
    {
      "cell_type": "code",
      "execution_count": 8,
      "metadata": {
        "id": "y25KVviLYSWJ"
      },
      "outputs": [],
      "source": [
        "import matplotlib.pyplot as plt\n",
        "import pandas as pd\n",
        "from sklearn import datasets\n",
        "from sklearn.discriminant_analysis import LinearDiscriminantAnalysis"
      ]
    },
    {
      "cell_type": "code",
      "source": [
        "df=pd.read_csv('Seed_Data.csv')"
      ],
      "metadata": {
        "id": "GzVZAnB9YZ_L"
      },
      "execution_count": 2,
      "outputs": []
    },
    {
      "cell_type": "code",
      "source": [
        "print(df)"
      ],
      "metadata": {
        "colab": {
          "base_uri": "https://localhost:8080/"
        },
        "id": "5bB71Da0YkUn",
        "outputId": "e96ff54f-088c-4471-8e81-7fd6493b7177"
      },
      "execution_count": 3,
      "outputs": [
        {
          "output_type": "stream",
          "name": "stdout",
          "text": [
            "         A      P       C     LK     WK  A_Coef    LKG  target\n",
            "0    15.26  14.84  0.8710  5.763  3.312   2.221  5.220       0\n",
            "1    14.88  14.57  0.8811  5.554  3.333   1.018  4.956       0\n",
            "2    14.29  14.09  0.9050  5.291  3.337   2.699  4.825       0\n",
            "3    13.84  13.94  0.8955  5.324  3.379   2.259  4.805       0\n",
            "4    16.14  14.99  0.9034  5.658  3.562   1.355  5.175       0\n",
            "..     ...    ...     ...    ...    ...     ...    ...     ...\n",
            "205  12.19  13.20  0.8783  5.137  2.981   3.631  4.870       2\n",
            "206  11.23  12.88  0.8511  5.140  2.795   4.325  5.003       2\n",
            "207  13.20  13.66  0.8883  5.236  3.232   8.315  5.056       2\n",
            "208  11.84  13.21  0.8521  5.175  2.836   3.598  5.044       2\n",
            "209  12.30  13.34  0.8684  5.243  2.974   5.637  5.063       2\n",
            "\n",
            "[210 rows x 8 columns]\n"
          ]
        }
      ]
    },
    {
      "cell_type": "code",
      "source": [
        "Y = df['target']        \n",
        "X = df.iloc[:, [0, 1, 2, 3, 4, 5, 6]].values"
      ],
      "metadata": {
        "id": "8EthHX4TYnY_"
      },
      "execution_count": 5,
      "outputs": []
    },
    {
      "cell_type": "code",
      "source": [
        "lda = LinearDiscriminantAnalysis(n_components=2)\n",
        "lda_X = lda.fit(X, Y).transform(X)"
      ],
      "metadata": {
        "id": "RFPals7RY0of"
      },
      "execution_count": 9,
      "outputs": []
    },
    {
      "cell_type": "code",
      "source": [
        "plt.scatter(lda_X[y == 0, 0], lda_X[y == 0, 1], s =100, c = 'orange', label = 'Target 0')\n",
        "plt.scatter(lda_X[y == 1, 0], lda_X[y == 1, 1], s =100,  c = 'yellow', label = 'Target 1')\n",
        "plt.scatter(lda_X[y == 2, 0], lda_X[y == 2, 1], s =100,  c = 'green', label = 'Target 2')\n",
        "plt.title('LDA plot for Seed Dataset')\n",
        "plt.legend()"
      ],
      "metadata": {
        "colab": {
          "base_uri": "https://localhost:8080/",
          "height": 298
        },
        "id": "NFcuqWvDZEIe",
        "outputId": "47e7788d-007c-49f3-aad4-3d18e22d6486"
      },
      "execution_count": 10,
      "outputs": [
        {
          "output_type": "execute_result",
          "data": {
            "text/plain": [
              "<matplotlib.legend.Legend at 0x7f8cef6c3890>"
            ]
          },
          "metadata": {},
          "execution_count": 10
        },
        {
          "output_type": "display_data",
          "data": {
            "text/plain": [
              "<Figure size 432x288 with 1 Axes>"
            ],
            "image/png": "[encoded data removed]"
          },
          "metadata": {
            "needs_background": "light"
          }
        }
      ]
    }
  ]
}